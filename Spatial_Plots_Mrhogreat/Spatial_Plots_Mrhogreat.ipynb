{
 "cells": [
  {
   "cell_type": "markdown",
   "metadata": {},
   "source": [
    "# Instructions: \n",
    "##### To just produce final graph(s) as seen in the paper, run cells in \"Section 1: Setup\" and \"Section 2: Final Graph(s)\" section only, ignore the \"Section 3: Simulations \"\n",
    "##### To run the simulations and produce your own data, run the whole notebook"
   ]
  },
  {
   "cell_type": "markdown",
   "metadata": {},
   "source": [
    "### Section 1: Setup"
   ]
  },
  {
   "cell_type": "code",
   "execution_count": 2,
   "metadata": {},
   "outputs": [
    {
     "name": "stdout",
     "output_type": "stream",
     "text": [
      "we want 1 <<< m*deme_density <<< number of demes to keep continous structure\n",
      "1 <<<  10.0  <<<  1000\n"
     ]
    }
   ],
   "source": [
    "import msprime\n",
    "import tskit\n",
    "import numpy as np\n",
    "import matplotlib.pyplot as plt\n",
    "import pandas as pd\n",
    "import pylab\n",
    "import scipy.linalg\n",
    "import matplotlib\n",
    "import csv\n",
    "import random\n",
    "from itertools import groupby\n",
    "import collections\n",
    "\n",
    "def get_unique_numbers(numbers):\n",
    "\n",
    "    list_of_unique_numbers = []\n",
    "\n",
    "    unique_numbers = set(numbers)\n",
    "\n",
    "    for number in unique_numbers:\n",
    "        list_of_unique_numbers.append(number)\n",
    "\n",
    "    return list_of_unique_numbers\n",
    "\n",
    "plt.style.use('seaborn-talk')\n",
    "matplotlib.rcParams['axes.labelsize'] = 20\n",
    "matplotlib.rcParams['axes.titlesize'] = 24\n",
    "matplotlib.rcParams['xtick.labelsize'] = 15\n",
    "matplotlib.rcParams['xtick.major.size'] = 10\n",
    "matplotlib.rcParams['xtick.minor.size'] = 5\n",
    "matplotlib.rcParams['ytick.labelsize'] = 20\n",
    "matplotlib.rcParams['ytick.major.size'] = 10\n",
    "\n",
    "def migration_matrix(length, migration_rate):\n",
    "    first_col = np.zeros(length)\n",
    "    first_col[1] = migration_rate\n",
    "    first_col[-1] = migration_rate\n",
    "    result = scipy.linalg.circulant(first_col)\n",
    "    return result\n",
    "\n",
    "Deme_density = 50\n",
    "L = 1000 #the number of demes \n",
    "deme_sample_size = Deme_density #deme sample size \n",
    "trials = 50 #number of trials\n",
    "m = 0.2 #migration rate\n",
    "total_sample_size = L * deme_sample_size # total sample size\n",
    "matrix = migration_matrix(L, m/2)\n",
    "total_population_size=L * Deme_density\n",
    "\n",
    "population_configurations = L * [msprime.PopulationConfiguration(sample_size=deme_sample_size)]\n",
    "\n",
    "print(\"we want 1 <<< m*deme_density <<< number of demes to keep continous structure\")\n",
    "print(\"1 <<< \",m*Deme_density,\" <<< \",L )\n"
   ]
  },
  {
   "cell_type": "markdown",
   "metadata": {},
   "source": [
    "### Section 2: Simulations"
   ]
  },
  {
   "cell_type": "markdown",
   "metadata": {},
   "source": [
    "### Function that splits list (needed for larger populations)\n"
   ]
  },
  {
   "cell_type": "code",
   "execution_count": 3,
   "metadata": {},
   "outputs": [],
   "source": [
    "def split_list(alist, wanted_parts):\n",
    "    length = len(alist)\n",
    "    return [ alist[i*length // wanted_parts: (i+1)*length // wanted_parts] \n",
    "             for i in range(wanted_parts) ]\n",
    "leaf_list=[[0]]\n",
    "for i in range (1,total_sample_size):\n",
    "    leaf_list.append([i])\n",
    "wanted_parts=int(deme_sample_size/4)\n",
    "split_leaf_list=split_list(leaf_list,wanted_parts)\n",
    "a=[ [0]*int(total_sample_size+1) for i in range(2*total_sample_size-1)]"
   ]
  },
  {
   "cell_type": "code",
   "execution_count": 4,
   "metadata": {},
   "outputs": [
    {
     "name": "stdout",
     "output_type": "stream",
     "text": [
      "[[0. 1. 0. 0. 1.]\n",
      " [1. 0. 1. 0. 0.]\n",
      " [0. 1. 0. 1. 0.]\n",
      " [0. 0. 1. 0. 1.]\n",
      " [1. 0. 0. 1. 0.]]\n"
     ]
    }
   ],
   "source": [
    "print(migration_matrix(5,1))"
   ]
  },
  {
   "cell_type": "code",
   "execution_count": 5,
   "metadata": {},
   "outputs": [
    {
     "name": "stdout",
     "output_type": "stream",
     "text": [
      "transition count =  500.0\n"
     ]
    }
   ],
   "source": [
    "transition_freq=(max(Deme_density,(m*Deme_density**2)))\n",
    "print(\"transition count = \", transition_freq)"
   ]
  },
  {
   "cell_type": "code",
   "execution_count": 6,
   "metadata": {},
   "outputs": [
    {
     "name": "stdout",
     "output_type": "stream",
     "text": [
      "\n"
     ]
    }
   ],
   "source": [
    "min_transition_zone=transition_freq # transition frequency formula\n",
    "max_transition_zone=0.2*total_sample_size\n",
    "diff=max_transition_zone-min_transition_zone\n",
    "print()\n",
    "x=np.linspace(min_transition_zone,max_transition_zone,10)\n"
   ]
  },
  {
   "cell_type": "code",
   "execution_count": 7,
   "metadata": {},
   "outputs": [
    {
     "name": "stdout",
     "output_type": "stream",
     "text": [
      "500\n",
      "1555\n",
      "2611\n",
      "3666\n",
      "4722\n",
      "5777\n",
      "6833\n",
      "7888\n",
      "8944\n",
      "10000\n"
     ]
    }
   ],
   "source": [
    "for i in range(len(x)):\n",
    "    print(int(x[i]))"
   ]
  },
  {
   "cell_type": "code",
   "execution_count": 8,
   "metadata": {},
   "outputs": [
    {
     "data": {
      "text/plain": [
       "500.0"
      ]
     },
     "execution_count": 8,
     "metadata": {},
     "output_type": "execute_result"
    }
   ],
   "source": [
    "transition_freq"
   ]
  },
  {
   "cell_type": "code",
   "execution_count": 9,
   "metadata": {},
   "outputs": [
    {
     "data": {
      "text/plain": [
       "50"
      ]
     },
     "execution_count": 9,
     "metadata": {},
     "output_type": "execute_result"
    }
   ],
   "source": [
    "Deme_density "
   ]
  },
  {
   "cell_type": "markdown",
   "metadata": {},
   "source": [
    "### Simulations populaton structure over a number of trials and averages out the number of descendants in each trial into an array \"b\""
   ]
  },
  {
   "cell_type": "code",
   "execution_count": 11,
   "metadata": {},
   "outputs": [],
   "source": [
    "allele_frequency_vals=[]\n",
    "q=[ [0]*int(total_sample_size+1) for i in range(2*total_sample_size-1)]\n",
    "afs2 = []\n",
    "#a2=[]\n",
    "for i in range(1):\n",
    "    #print(\"iteration\",i)\n",
    "    ts = msprime.simulate(Ne=Deme_density, population_configurations=population_configurations, migration_matrix=matrix,record_provenance=False,random_seed=5)\n",
    "   \n",
    "    a=ts.mean_descendants(leaf_list) #Finds the descendants for each trial and sums them up\n",
    "\n",
    "    afs1 = ts.allele_frequency_spectrum(mode=\"branch\", polarised=True, span_normalise=False)\n",
    "    \n",
    "    afs2.append(afs1)\n",
    "  \n",
    "\n",
    "        \n",
    "    #transition zone\n",
    "    num_desc  = a.sum(axis=1)\n",
    "    #print(num_desc)\n",
    "    index_vals=[]\n",
    "    count_vals=[]\n",
    "    min_transition_zone=0.10*total_sample_size# transition frequency formula\n",
    "    max_transition_zone=0.19*total_sample_size\n",
    "    for j in range(len(num_desc)):\n",
    "        if min_transition_zone<num_desc[j]<max_transition_zone:\n",
    "            index_vals.append(j)\n",
    "            count_vals.append(num_desc[j])\n",
    "    #print(count_vals)        \n",
    "    ######\n",
    "    \n",
    "    transition_desc=[]\n",
    "\n",
    "    for i in range(len(index_vals)):\n",
    "        transition_desc.append(a[int(index_vals[i])])\n",
    "    #print(transition_desc)\n",
    "    #print(len(transition_desc[0]))\n",
    "    #print(len(transition_desc[1]))\n",
    "    #np.savetxt(\"transition_zone_desc.csv\", transition_desc , delimiter=\",\")\n",
    "    \n",
    "    ######\n",
    "    \n",
    "    spatial_transition = [ []*1 for i in range(len(transition_desc))]\n",
    "    for i in range(len(transition_desc)):\n",
    "        for j in range(len(transition_desc[i])):\n",
    "            if transition_desc[i][j]>0:\n",
    "                spatial_transition[i].append(j)\n",
    "\n",
    "\n",
    "    #np.savetxt(\"spatial_transition.csv\", spatial_transition ,fmt=\"%s\", delimiter=\",\")\n",
    "    \n",
    "    ######\n",
    "    \n",
    "    demes=spatial_transition\n",
    "    for i in range(len(demes)):\n",
    "        for j in range(len(demes[i])):\n",
    "            demes[i][j]=demes[i][j]//50 # divides and rounds down to allocate into demes (0-1000)\n",
    "  \n",
    "\n",
    "    #np.savetxt(\"demes_t.csv\", demes ,fmt=\"%s\", delimiter=\",\")\n",
    "    \n",
    "    \n",
    "    ######\n",
    "    \n",
    "    #print(len(demes))\n",
    "    freq=np.array(count_vals)\n",
    "    #print(count_vals)\n",
    "    #print(freq)\n",
    "    freq=freq/(total_sample_size)\n",
    "    \n",
    "    #print(\"frequency\")\n",
    "    #print(freq)\n",
    "    \n",
    "    #print(\"count_vals\")\n",
    "    #print(count_vals)\n",
    "    \n",
    "    dist=np.linspace(0,len(demes)-1,len(demes))\n",
    "    #print(dist)\n",
    "\n",
    "    #print(demes)\n",
    "    #print(len(demes))\n",
    "    ######\n",
    "    base_width=[0]\n",
    "    frequency=[0]\n",
    "    for i in range(len(dist)):\n",
    "        counter=collections.Counter(demes[int(dist[i])])\n",
    "        z=list(counter.values())\n",
    "        z_new= [v/50 for v in z]\n",
    "        x=get_unique_numbers(demes[int(dist[i])])\n",
    "        #print(z)\n",
    "        #print(x)\n",
    "        #base_width.append(len(x))\n",
    "        frequency.append(freq[int(dist[i])])\n",
    "        #plt.bar(x,z, width=1.0)\n",
    "        #plt.bar(x,z_new,width=1.0)\n",
    "        #plt.xlim(0,1000)\n",
    "        #plt.xlabel(\"Deme Number\")\n",
    "        #plt.ylabel(\"Fraction of deme occupied by the mutant\",)\n",
    "        np.savetxt(\"Demes_Mrhogreat\"+ str(i) +\".csv\",x, delimiter=',' )\n",
    "        np.savetxt(\"Demes_Fraction_Mrhogreat\"+ str(i) +\".csv\",z, delimiter=',' )\n",
    "        #plt.title(\"Spatial distribution of branch of allele frequency \" + str(freq[int(dist[i])]))\n",
    "        allele_frequency_vals.append(freq[int(dist[i])])\n",
    "        \n",
    "        \n",
    "        #plt.figure()\n",
    "        \n",
    "        #plt.show()\n",
    "\n",
    "\n",
    "  \n",
    "    \n",
    "\n",
    "#b=np.mean(a2,0)\n",
    "\n",
    "#b=a/trials #Divides the sum of the  descendants by the number of trials to find the expected number of descendants per node\n",
    "  \n",
    "    \n",
    "\n",
    "#b=np.mean(a2,0)\n",
    "\n",
    "#b=a/trials #Divides the sum of the  descendants by the number of trials to find the expected number of descendants per node\n"
   ]
  },
  {
   "cell_type": "code",
   "execution_count": null,
   "metadata": {},
   "outputs": [],
   "source": [
    "allele_frequency_vals"
   ]
  },
  {
   "cell_type": "markdown",
   "metadata": {},
   "source": [
    "### Section 3: Graphs"
   ]
  },
  {
   "cell_type": "code",
   "execution_count": 25,
   "metadata": {},
   "outputs": [
    {
     "data": {
      "image/png": "[encoded data removed]",
      "text/plain": [
       "<Figure size 748.8x514.8 with 1 Axes>"
      ]
     },
     "metadata": {
      "needs_background": "light"
     },
     "output_type": "display_data"
    },
    {
     "data": {
      "text/plain": [
       "<Figure size 748.8x514.8 with 0 Axes>"
      ]
     },
     "metadata": {},
     "output_type": "display_data"
    }
   ],
   "source": [
    "a=np.array(pd.read_csv('Demes_Mrhogreat5.csv'))\n",
    "b=np.array(pd.read_csv('Demes_Fraction_Mrhogreat5.csv'))\n",
    "Deme_Number=a.flatten()\n",
    "Fraction=b.flatten()/Deme_density\n",
    "plt.bar(Deme_Number, Fraction, width=1.0)\n",
    "plt.xlim(0,1000)\n",
    "plt.title(\"Spatial distribution of branch of allele frequency \" + str(allele_frequency_vals[5]))\n",
    "plt.savefig(\"Spatial_mrhogreat.pdf\")\n",
    "plt.figure()\n",
    "plt.show()"
   ]
  },
  {
   "cell_type": "code",
   "execution_count": null,
   "metadata": {},
   "outputs": [],
   "source": []
  }
 ],
 "metadata": {
  "kernelspec": {
   "display_name": "Python 3",
   "language": "python",
   "name": "python3"
  },
  "language_info": {
   "codemirror_mode": {
    "name": "ipython",
    "version": 3
   },
   "file_extension": ".py",
   "mimetype": "text/x-python",
   "name": "python",
   "nbconvert_exporter": "python",
   "pygments_lexer": "ipython3",
   "version": "3.8.8"
  }
 },
 "nbformat": 4,
 "nbformat_minor": 4
}
